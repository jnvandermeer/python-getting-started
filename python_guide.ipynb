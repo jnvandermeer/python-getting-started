{
 "cells": [
  {
   "cell_type": "markdown",
   "metadata": {},
   "source": [
    "# Python and neurostimulation\n",
    "\n",
    "Feel free to change things as you like in the tutorial. It is intended for anyone wishing to get started with Python, as many of the (setup) steps outlined are not only for neurostimulation, but anything python-related.\n",
    "\n",
    "In the process you create a full python installation, gain some understanding on what to do/how to handle it, and begin scripting yourself."
   ]
  },
  {
   "cell_type": "markdown",
   "metadata": {},
   "source": [
    "## 1. On Virtual Environments\n",
    "\n",
    "In order to use python for neurostimulation, we should install python on the computer first. Most computers already have some version of python, but this is for our purposes totally unacceptable. Tampering with that usually will break your system. The only recommended way to use python is therefore in a safe, disposable sandbox environment in which you can screw up as badly as possible with impunity without ever inavertently adversly affecting the rest of your computer even in the slightest. Think of the installation and use of this sandbox environment as installing and running Matlab.\n",
    "\n",
    "This is called a **Virtual Environment**. The name is indeed a little 'virtual', and to me that strikes as 'vague', but its purpose is clear: containing your python installation and associated packages for a specfic application. Each environment has a specific **name** that you give to it. For example a stimulus presentation environment might be called *st*, while an analysis environment might be called *eeganalysis*. The nice thing is that you can install different python packages of different versions in your different environments without affecting each other.\n",
    "\n",
    "There are in the python world several virual environment softwares:\n",
    " - pipenv\n",
    " - virtualenv\n",
    " - venv\n",
    " - anaconda\n",
    " - miniconda\n",
    " - conda\n",
    " \n",
    "This seems a bit mind-boggling (to me it was anyway), and this is what you get in the open-source community: Lots of different people work on overcoming an (often occurring!) problem with different kinds of ideas and coming from their own situations, and thereby come up with lots of different solutions. There is only ONE solution to use for our purposes, and you can forget all the rest. I did mention them because you will definitely run into them as you go along. The only one really good solution (and that you must use) is **miniconda**. A short word about conda, miniconda and anaconda. **conda** is the *actual* Software, whereas miniconda and anaconda are more descriptive of the repositories of python packages shipped in the download. Miniconda is the best because it comes with less bulk. Anaconda also as a GUI which is a bit too slow for my tastes.\n",
    " \n",
    "To install miniconda, there is one place to go:\n",
    "https://repo.anaconda.com/miniconda/\n",
    "For Neurostimulation on WINDOWS, I would recommend downloading the 32-bit package, NOT the 64-bit! - If you download the 64-bit, you won't be able to send triggers via the Parallel Port. I think for Mac or Linux it doesn't matter.\n",
    "\n",
    "**Download the latest version of conda and try to install it** There's some questions, go with the basic answers. If you get confused google whatever it means and try to make it work.\n",
    "\n",
    "Once you install it, on Linux you get conda set up in the bash terminal; I think on Mac OS X it should also be callable with the terminal; on Windows you get the Anaconda prompt. Start up the terminal, and check if things work (The \\$ signifies that it is a terminal):\n",
    "\n",
    "```console\n",
    "$ conda --version\n",
    "```"
   ]
  },
  {
   "cell_type": "markdown",
   "metadata": {},
   "source": [
    "## 2. Using Conda - basic commands\n",
    "\n",
    "If you have conda thus installed, the next thing is to actually MAKE a virtual (or conda) environment. Open a conda prompt and do like thus:\n",
    "\n",
    "```console\n",
    "$ conda create -n stimulation python=3.6\n",
    "```\n",
    "\n",
    "You have to specify python=3 so it will grab its own dedecated python interpreter and not use the main (OS system) one. You will see a lot of text garble, and some questions. Answer yes to all of them. Once this is done, you have created the conda environment called stimulation. But you are not yet inside this environment. Go inside it, by doing:\n",
    "\n",
    "```console\n",
    "$ conda activate stimulation\n",
    "```\n",
    "\n",
    "Then you are inside the environment. You will see that with the (stimulation) in front of the bash shell. Now that we are inside, we can do whatever we like in here in terms of installation and set up, and we will be completely safe to mess up, start again, and do whatever. A note on the 'base' environment that you might've seen earlier: do not tamper with the base environment and make sure you're never in the base environment when you wish to try anything. That is the system's own environment (so no touch, unless you know what you're doing).\n",
    "\n",
    "There are some basic commands in terms of packages, and their upkeep/installation:\n",
    "\n",
    "1. `$ conda install -c conda-forge <package name>`\n",
    "2. `$ conda install -c cogsci <package name>`\n",
    "3. `$ pip install <package name>`\n",
    "\n",
    "To see a list of packages within the current environment, do this:\n",
    "\n",
    "`$ conda list`\n",
    "\n",
    "To see where the python executable is:\n",
    "\n",
    "`$ which python` (but you have to be inside the environment)\n",
    "\n",
    "To see a list of all the environments\n",
    "\n",
    "`$ conda info --envs`\n",
    "\n",
    "To see general information, including the version of python, where the actualy python executable is on the system, and (very handy!!!) a list of paths where everything lives (so you can check those as the need arises):\n",
    "\n",
    "`$ conda info`\n",
    "\n",
    "To remove an environment because you wish to start over and try something:\n",
    "\n",
    "`$ conda remove --name stimulus --all`\n",
    "\n",
    "\n",
    "This list of conda instructions together with the conda/anaconda/miniconda prompt is basically the core of what you need to start working with python.\n",
    "\n",
    "For all the rest of the commands on how to handle your installation (i.e. your environments):\n",
    "https://docs.conda.io/projects/conda/en/latest/user-guide/tasks/manage-environments.html"
   ]
  },
  {
   "cell_type": "markdown",
   "metadata": {},
   "source": [
    "## 3. Setting up the neurostimulation environment\n",
    "\n",
    "So now that we've installed conda, created a stimulation environment, and went into that, and armed with the knowledge of how to install packages, we can install all the packages that we need to do our stuff.\n",
    "\n",
    "Unlike Matlab, where everything is already shipped in a large, unwieldy, (but still oh-se usable!), bulk-like fashion, in this bare-bones environment we must install everthing ourselves. However, unlike Matlab, everything is free, well-maintained by an army of volunteers, and you can install things on as many systems as you want with impunity. And everything is downloadable via conda (fist choice) or pip (second choice if conda doens't seem to support it).\n",
    "\n",
    "The list of stuff we need are (probably) as far as I can tell:\n",
    "\n",
    "| \\#  | package  | installation instruction  |  purpose | matlab equivalent |\n",
    "|:---|:---|:---|:---|:---|\n",
    "| 1. | numpy | `$ conda install numpy` | matrices | built-in |\n",
    "| 2. | scipy | `$ conda install numpy` | signal analysis | built-in |\n",
    "| 3. | psychopy | `$ conda install -c conda-forge psychopy` | neuropsych stimulation | psych toolbox |\n",
    "| 4. | jupyterlab | `$ conda install jupyterlab` | The main GUI | Matlab's GUI |\n",
    "| 5. | pip | `$ conda install pip` | Update the Pip | -- |\n",
    "| 6. | ipython | `$ pip install ipython` | python prompt | built-in |\n",
    "| 7. | pyqt | `$ conda install pyqt` | stuff programs need to GUIs | GUIDE |\n",
    "| 8. | psychtoolbox | `$ pip install psychtoolbox` | some psych tools? | psychtoolbox |\n",
    "| 9. | pygame | `$ pip install pygame` | graphics/video/audio | -- |\n",
    "| 10. | pyo | `$ pip install pyo` | graphics/video/audio |  --  |\n",
    "| 111. | pyparallel | `$ pip install pyparallel` | Sending Triggers | Write your own MEX-file that links to inpout32.dll |\n",
    "| 11. | SoundFile | `$ pip install SoundFile` | audio | -- |\n",
    "| 12. | ipyton | `$ pip install ipython` | 'interactive' python | -- |\n",
    "| 13. | ipdb | `$ pip install ipdb` | a debugger | -- |\n",
    "\n",
    "Install all of these packages inside the stimulation environment and then we are better suited to go. These have been taken from the instructions on how to install psychopy here:\n",
    "\n",
    "https://www.psychopy.org/download.html\n",
    "\n",
    "https://raw.githubusercontent.com/psychopy/psychopy/master/conda/psychopy-env.yml\n",
    "\n",
    "Especially the psychopy package is gargantuan, just be patient.\n",
    "\n",
    "Only on Linux (I guess) you also have to install libwebkitgtk-1.0: \n",
    "\n",
    "`$ sudo apt-get install libwebkitgtk-1.0`\n",
    "\n",
    "Also -- you might not actually wish to install psychtoolbox - it might cause psychopy builder to crash. There's not much in there, it seems that is useful - although it is instructed by the psychopy people for us to install."
   ]
  },
  {
   "cell_type": "markdown",
   "metadata": {},
   "source": [
    "## 4. Using the Python Installation\n",
    "\n",
    "So now that everything is installed, we can start running some python.\n",
    "There are a couple of different ways in which you can actually start up python.\n",
    "\n",
    "\n",
    "```console\n",
    "$ ipython\n",
    "```\n",
    "'bare-bones' python command, use this if you with to just run some more quick python commands. This is a good place to try out basic commands.\n",
    "\n",
    "\n",
    "```console\n",
    "$ psychopy\n",
    "```\n",
    "Psychopy GUI with all the bells and whistles. use this with the manual outlined in: https://www.psychopy.org/builder/index.html.\n",
    "Not very useful to learn how to use python, and the scripts made by the builder are rather horrible, but this is the place if you wish to get going rather quickly.\n",
    "\n",
    "\n",
    "```console\n",
    "$ jupyter-lab\n",
    "``` \n",
    "Using the web-gui, probably the most extensive way to run python. Basically you run the \"ipython\" with a more nice additions to it.\n",
    "\n",
    "--- \n",
    "\n",
    "However you choose to run things, there are always the following 3 steps:\n",
    "1. First we start up a new anaconda prompt / or bash terminal\n",
    "2. Then do `$ conda activate stimulation`\n",
    "3. Then we run either of the above 3 commands above.\n",
    "\n",
    "Everything that is python that can be found on the internet for any purpose whatsoever can be run in this way."
   ]
  },
  {
   "cell_type": "markdown",
   "metadata": {},
   "source": [
    "## 5. Movie stimulation\n",
    "\n",
    "For now we will try to run one of my own prepared stimulation scripts for running a simple movie. To do this, we need to work in a specific directory. I'd suggest in your home folder to create a folder 'movie', and in that, put in the movie file. \"test.avi\".\n",
    "\n",
    "Grab a test movie from here:\n",
    "https://www.engr.colostate.edu/me/facil/dynamics/files/flame.avi\n",
    "\n",
    "Grab this notebook from here:\n",
    "https://github.com/jnvandermeer/python-getting-started\n",
    "\n",
    "Put both files into a folder, then go to that folder with\n",
    "\n",
    "`$ cd your_folder`\n",
    "\n",
    "Then (if not already)\n",
    "\n",
    "`$ conda activate stimulus`\n",
    "\n",
    "Then:\n",
    "\n",
    "`$ jupyter-lab`\n",
    "\n",
    "Your web-browser should start and show a rather white-looking GUI with File, Edit, on the top/left corner, and with all kinds of buttons as well. Click the button looking as a '+' and you get the \"Launcher\" menu with Notebook, Console, or other. To fully go into everything that you can do with jupyterlab is a bit too much details for now, but there are excellent youtube videos that explain all the features. There are several and it's worth your time to watch a couple of them to get a sense of all the buttons and their purpose.\n",
    "\n",
    "If all is well you can see a ipynb file; click on it! You should now have this document in your own computer and ready to go."
   ]
  },
  {
   "cell_type": "markdown",
   "metadata": {},
   "source": [
    "## 6. Programming a movie stimulus"
   ]
  },
  {
   "cell_type": "markdown",
   "metadata": {},
   "source": [
    "Python starts always bare-bones, so we have to grab what we need. Evaluate the cell with shift-enter."
   ]
  },
  {
   "cell_type": "code",
   "execution_count": 1,
   "metadata": {},
   "outputs": [
    {
     "name": "stdout",
     "output_type": "stream",
     "text": [
      "pygame 1.9.6\n",
      "Hello from the pygame community. https://www.pygame.org/contribute.html\n"
     ]
    }
   ],
   "source": [
    "import psychopy\n",
    "from psychopy import visual"
   ]
  },
  {
   "cell_type": "markdown",
   "metadata": {},
   "source": [
    "Apparently, Psychopy uses pygame for all of the visual stuff. The import on my old 10-year old laptop also takes a couple of seconds.\n",
    "\n",
    "We then need some kind of a window to draw stuff in:\n",
    "\n",
    "Jupyterlab has this thing called Contextual Help ('+' button -> show contextual help -> drag the window to the side. If the library you're using is well-documented, it has a tonne of useful information on how to call functions.\n",
    "\n",
    "How to draw a window I got from the Psychopy Builder, and from the Pychopy website, and from just googling examples.\n",
    "\n",
    "https://www.psychopy.org/api/api.html\n",
    "Most of the stuff in this psychopy API you will also find in contextual help, as the wewbsite is built from the same material."
   ]
  },
  {
   "cell_type": "code",
   "execution_count": 2,
   "metadata": {},
   "outputs": [],
   "source": [
    "win = visual.Window(size=(800, 600), fullscr=False)"
   ]
  },
  {
   "cell_type": "markdown",
   "metadata": {},
   "source": [
    "Go with the cursor on visual, and then go with the cursor on Window, and you will see what kind of options there are and how to call things.\n",
    "\n",
    "We then need some kind of a text, as well."
   ]
  },
  {
   "cell_type": "code",
   "execution_count": 3,
   "metadata": {},
   "outputs": [],
   "source": [
    "text_obj = visual.TextStim(win, \n",
    "    text='Press <ENTER> To Start', \n",
    "    pos=(0, 0)\n",
    ")"
   ]
  },
  {
   "cell_type": "markdown",
   "metadata": {},
   "source": [
    "Then psychopy functions by 'drawing' the text_obj into the window (and any other stimuli as well). This will not display the text - it will just draw it into the memory buffer. This will determine what is shown with the next window flip. Suppose we have placeholder texts textA and textB:\n",
    "\n",
    "Then the sequence is:\n",
    "1. Draw TextA (into memory)\n",
    "2. Draw TextB (into memory)\n",
    "3. Flip Window (puts TextA and TextB onto the screen, and empties memory)\n",
    "4. If you wish to draw TextA and TextB again, you have to draw them anew.\n"
   ]
  },
  {
   "cell_type": "code",
   "execution_count": 4,
   "metadata": {},
   "outputs": [],
   "source": [
    "text_obj.draw()"
   ]
  },
  {
   "cell_type": "code",
   "execution_count": 5,
   "metadata": {},
   "outputs": [
    {
     "data": {
      "text/plain": [
       "259.94749833900096"
      ]
     },
     "execution_count": 5,
     "metadata": {},
     "output_type": "execute_result"
    }
   ],
   "source": [
    "win.flip()"
   ]
  },
  {
   "cell_type": "markdown",
   "metadata": {},
   "source": [
    "Entering doesn't do anything yet - the window just passively waits until we draw stuff again, by hand (!). If we wish to do anything with events, keys, etc etc, what we need to do is to enter a loop, in which we keep drawing the text and flipping the window, until we capture an event. This is the basic building block of the scritps that are output by the 'builder'."
   ]
  },
  {
   "cell_type": "markdown",
   "metadata": {},
   "source": [
    "Psychopy captures all kinds of events (keypresses, mouse action, etc) in `event`, so we need to grab that. Psychopy also comes with a relatively good timer to keep track of times, we need that too."
   ]
  },
  {
   "cell_type": "code",
   "execution_count": 6,
   "metadata": {},
   "outputs": [],
   "source": [
    "from psychopy import event\n",
    "from psychopy import clock"
   ]
  },
  {
   "cell_type": "markdown",
   "metadata": {},
   "source": [
    "Now will come some logic involving \n",
    "- Boolean Python Variables; True and False\n",
    "- Objects made by others (press_clock)\n",
    "- 'Calling' of functions with the ()\n",
    "- Object creation: clock.clock() makes a new clock called press_clock. press_clock then has a function called getTime() that will give you the time in seconds elapsed ever since you made press_clock, and press_clock.reset() will put it again to 0 seconds.\n",
    "- buttonsPressed, a list of items\n",
    "- buttonPressed, one element from that list (which is a 2-element list involving a key and a time)\n",
    "- while loop, which keep running indefinitely - there's this thing with indentations which makes python not have an 'end' to the while loop, as per other programming languages. This is supposed to improve readability.\n"
   ]
  },
  {
   "cell_type": "code",
   "execution_count": 16,
   "metadata": {},
   "outputs": [
    {
     "data": {
      "text/plain": [
       "1481.441422031001"
      ]
     },
     "execution_count": 16,
     "metadata": {},
     "output_type": "execute_result"
    }
   ],
   "source": [
    "# then events need to be cleared (good housekeeping)\n",
    "event.clearEvents()\n",
    "\n",
    "# we need to make a separate clock from the 'clock' library.\n",
    "# clocks, once they are defined in this way, will automatically\n",
    "# start counting from 0 seconds upwards.\n",
    "press_clock = clock.Clock()\n",
    "\n",
    "# define a variable to keep track if we can continue or not:\n",
    "correctlyPressed = False\n",
    "\n",
    "# we can also present something when the right button is not pressed:\n",
    "draw_incorr_text = False\n",
    "\n",
    "# now we can write the logic that makes this:\n",
    "while not correctlyPressed:\n",
    "    \n",
    "    text_obj.draw()\n",
    "    \n",
    "    if draw_incorr_text is True and press_clock.getTime() < 1.0:\n",
    "        incor_text_obj.draw()\n",
    "    else:\n",
    "        draw_incorr_text=False\n",
    "    \n",
    "    win.flip()\n",
    "    \n",
    "    \n",
    "    # then we check whether key is pressed:\n",
    "    evs = event.getKeys(timeStamped=press_clock)\n",
    "    if len(evs) > 0:\n",
    "        \n",
    "        buttonsPressed, timesPressed = zip(*evs)\n",
    "        buttonPressed=buttonsPressed[0]\n",
    "        \n",
    "        if buttonsPressed[0] in ['t', '5']: # f.e. MRI keys\n",
    "            correctlyPressed = True # here we break the main loop!\n",
    "        else:\n",
    "            # if the correct button is NOT pressed, we can display another piece of text:\n",
    "            incor_text_obj = visual.TextStim(win,\n",
    "            text=\"wrong button: %s\" % (buttonPressed),\n",
    "            pos=(0, -0.5))\n",
    "            \n",
    "            draw_incorr_text = True\n",
    "            press_clock.reset()\n",
    "            \n",
    "press_clock.reset()\n",
    "done_obj = visual.TextStim(win,\n",
    "text=\"done!\",\n",
    "pos=(0, 0))\n",
    "\n",
    "                           \n",
    "while press_clock.getTime() < 1.0:\n",
    "    done_obj.draw()\n",
    "    win.flip()\n",
    "            \n",
    "win.flip()"
   ]
  },
  {
   "cell_type": "markdown",
   "metadata": {},
   "source": [
    "The above code is not very well-written. Some improvements that could be made entail definition of the text objects in advance (to speed up the stimulation).\n",
    "\n",
    "Now how to show a movie, according to the Python reference:\n",
    "(one should use MovieStim3, not MovieStim, I found on the python forums):"
   ]
  },
  {
   "cell_type": "code",
   "execution_count": 17,
   "metadata": {},
   "outputs": [],
   "source": [
    "movie = visual.MovieStim3(\n",
    "    win=win, name='movie',\n",
    "    noAudio = False,\n",
    "    filename='flame.avi',\n",
    "    ori=0, pos=(0, 0), opacity=1,\n",
    "    loop=False,\n",
    "    depth=-1.0,\n",
    "    )\n",
    "\n",
    "movie.setAutoDraw(True) # this is handly so we don't have to bother with movie frame rates... and drawong of the movie"
   ]
  },
  {
   "cell_type": "code",
   "execution_count": 11,
   "metadata": {},
   "outputs": [
    {
     "name": "stdout",
     "output_type": "stream",
     "text": [
      "['__class__', '__del__', '__delattr__', '__dict__', '__dir__', '__doc__', '__eq__', '__format__', '__ge__', '__getattribute__', '__gt__', '__hash__', '__init__', '__init_subclass__', '__le__', '__lt__', '__module__', '__ne__', '__new__', '__reduce__', '__reduce_ex__', '__repr__', '__setattr__', '__sizeof__', '__str__', '__subclasshook__', '__weakref__', '_audioSeek', '_audioStream', '_borderBase', '_borderPix', '_calcPosRendered', '_calcSizeRendered', '_createTexture', '_frameInterval', '_getAudioStreamTime', '_getPolyAsRendered', '_initParams', '_mov', '_needUpdate', '_needVertexUpdate', '_nextFrameT', '_numpyFrame', '_onEos', '_requestedSize', '_retraceInterval', '_rotationMatrix', '_selectWindow', '_set', '_texID', '_unload', '_updateFrameTexture', '_updateList', '_updateVertices', '_verticesBase', '_videoClock', 'autoDraw', 'autoLog', 'clearTextures', 'contains', 'depth', 'draw', 'duration', 'filename', 'flipHoriz', 'flipVert', 'getCurrentFrameTime', 'getFPS', 'interpolate', 'loadMovie', 'loop', 'mask', 'maskParams', 'nDroppedFrames', 'name', 'noAudio', 'opacity', 'ori', 'overlaps', 'pause', 'play', 'pos', 'reset', 'seek', 'setAutoDraw', 'setAutoLog', 'setDKL', 'setDepth', 'setFlipHoriz', 'setFlipVert', 'setLMS', 'setMask', 'setMovie', 'setOpacity', 'setOri', 'setPos', 'setRGB', 'setSize', 'setUseShaders', 'setVolume', 'size', 'sound', 'status', 'stop', 'texRes', 'units', 'useShaders', 'useTexSubImage2D', 'verticesPix', 'win']\n"
     ]
    }
   ],
   "source": [
    "# How long does this movie last? the movie probably has some kind of 'get duration' function...\n",
    "# where is it?\n",
    "print(dir(movie))"
   ]
  },
  {
   "cell_type": "markdown",
   "metadata": {},
   "source": [
    "- anything spellec CamelCase is probably a function (callable with ())\n",
    "- anything in all_small_letters is probably some kind of number. BUT it could also be a function. The way to find out is just to test it\n",
    "- anything starting with _ or __ is definitely usable, but is not *intendered* to be called by other programs. So use it if you know what you're doing."
   ]
  },
  {
   "cell_type": "code",
   "execution_count": 19,
   "metadata": {},
   "outputs": [
    {
     "data": {
      "text/plain": [
       "3.14"
      ]
     },
     "execution_count": 19,
     "metadata": {},
     "output_type": "execute_result"
    }
   ],
   "source": [
    "# there is a 'duration in there... test it:\n",
    "movie.duration"
   ]
  },
  {
   "cell_type": "markdown",
   "metadata": {},
   "source": [
    "by pure chance, we got a movie with $\\pi$ (rounded to the nearest 2 decimals behind the comma) seconds. "
   ]
  },
  {
   "cell_type": "code",
   "execution_count": 18,
   "metadata": {},
   "outputs": [],
   "source": [
    "timer=clock.Clock()\n",
    "\n",
    "while timer.getTime() < movie.duration:\n",
    "    win.flip()"
   ]
  },
  {
   "cell_type": "markdown",
   "metadata": {},
   "source": [
    "## 7. Putting all of our work into a single script\n",
    "While nice to play with the jupyterlab, it's not good to routinely start a stimulus like this. So we put everything into a python script that can be run a bit more automatically."
   ]
  },
  {
   "cell_type": "markdown",
   "metadata": {},
   "source": [
    "- We can define some functions to help with the flow of things, i.e. to play the movie and to write some text.\n",
    "- We should import all of the required stuff at the beginning. IF you are curious as to where those python files are actually located -- conda info will give you the base path\n",
    "- I do define some texts objects within functions. This may not be super-neat, but it's not critical in terms of timings for the experiment. If for some reason text objects are improtant in a time-critical way (like fast-moving sequences), then probably you should change it."
   ]
  },
  {
   "cell_type": "code",
   "execution_count": 1,
   "metadata": {},
   "outputs": [],
   "source": [
    "import psychopy\n",
    "from psychopy import visual\n",
    "from psychopy import event\n",
    "from psychopy import clock\n",
    "\n",
    "# you might wish to play with fullscr, allowGUI and the 'size' options\n",
    "# so you can make the window full-screen.\n",
    "win = visual.Window(size=(800, 600), fullscr=False) \n",
    "\n",
    "# the movie:\n",
    "movie = visual.MovieStim3(\n",
    "    win=win, name='movie',\n",
    "    noAudio = False,\n",
    "    filename='flame.avi',\n",
    "    ori=0, pos=(0, 0), opacity=1,\n",
    "    loop=False,\n",
    "    depth=-1.0,\n",
    "    )\n",
    "# movie.pause() # otherwise the movie will play immediately in the script\n",
    "# movie.setAutoDraw(True) \n",
    "\n",
    "\n",
    "# function to print some text:\n",
    "def print_some_text(win, string, duration):\n",
    "    text_obj_2 = visual.TextStim(win, \n",
    "    text=string, \n",
    "    pos=(0, 0))\n",
    "    this_clock = clock.Clock()\n",
    "    while this_clock.getTime() < duration:\n",
    "        text_obj_2.draw()\n",
    "        win.flip()\n",
    "    win.flip()\n",
    "\n",
    "\n",
    "# function to wait for a key:\n",
    "def wait_for_key(win, starttext, keys):\n",
    "    \n",
    "        # the text:\n",
    "    text_obj = visual.TextStim(win, \n",
    "        text=starttext, \n",
    "        pos=(0, 0)\n",
    "    )\n",
    "\n",
    "    event.clearEvents()\n",
    "    press_clock = clock.Clock()\n",
    "    correctlyPressed = False\n",
    "    draw_incorr_text = False\n",
    "\n",
    "    while not correctlyPressed:\n",
    "    \n",
    "        text_obj.draw()\n",
    "\n",
    "        if draw_incorr_text is True and press_clock.getTime() < 1.0:\n",
    "            incor_text_obj.draw()\n",
    "        else:\n",
    "            draw_incorr_text=False\n",
    "        win.flip()\n",
    "\n",
    "        evs = event.getKeys(timeStamped=press_clock)\n",
    "        if len(evs) > 0:\n",
    "            buttonsPressed, timesPressed = zip(*evs)\n",
    "            buttonPressed=buttonsPressed[0]\n",
    "\n",
    "            if buttonsPressed[0] in keys: # f.e. MRI keys\n",
    "                correctlyPressed = True # here we break the main loop!\n",
    "            else:\n",
    "                incor_text_obj = visual.TextStim(win,\n",
    "                text=\"wrong button: %s\" % (buttonPressed),\n",
    "                pos=(0, -0.5))\n",
    "\n",
    "                draw_incorr_text = True\n",
    "                press_clock.reset()\n",
    "                \n",
    "    win.flip()\n",
    "\n",
    "\n",
    "# function to play the movie:\n",
    "def play_movie(win, movie):\n",
    "    timer=clock.Clock()\n",
    "\n",
    "    movie.seek(0) # go back to 0 seconds\n",
    "    movie.play() # I think we need to say play...\n",
    "    while timer.getTime() < movie.duration:\n",
    "        movie.draw()\n",
    "        win.flip()\n",
    "        # the movie already has setAutoDraw() to True, so \n",
    "        # we don't have to draw it...\n",
    "\n",
    "        \n"
   ]
  },
  {
   "cell_type": "code",
   "execution_count": 2,
   "metadata": {},
   "outputs": [],
   "source": [
    "# Now the flow of the experiment is like so:\n",
    "wait_for_key(win, 'Press <ENTER> to start', ['5', 'return'])\n",
    "play_movie(win, movie)\n",
    "print_some_text(win, 'it''s done', 2.0)\n"
   ]
  },
  {
   "cell_type": "code",
   "execution_count": 3,
   "metadata": {},
   "outputs": [
    {
     "name": "stdout",
     "output_type": "stream",
     "text": [
      "0.6630 \tWARNING \tMonitor specification not found. Creating a temporary one...\n",
      "1.7659 \tWARNING \tWe strongly recommend you activate the PTB sound engine in PsychoPy prefs as the preferred audio engine. Its timing is vastly superior. Your prefs are currently set to use ['sounddevice', 'PTB', 'pyo', 'pygame'] (in that order).\n"
     ]
    }
   ],
   "source": [
    "# we can close the window like so:\n",
    "win.close()\n",
    "# this will also give some psychopy outputs."
   ]
  },
  {
   "cell_type": "markdown",
   "metadata": {},
   "source": [
    "So from this ipynb example we can also make a .py file.\n",
    "- Click the '+' icon in jupyerlab and open up a text file\n",
    "- rename it to play_movie.py (riight-click -> rename)\n",
    "- copy/paste all of latest code into that file\n",
    "\n",
    "We can now play the movie more directly without having to do all of the jupyterlab stuff. To do so, these are the 4 steps:\n",
    "\n",
    "1. Open up a new terminal\n",
    "2. `$ conda activate stimulation`\n",
    "3. `$ cd <into-your-pythonscript-folder>`\n",
    "4. `$ python play_movie.py`\n"
   ]
  },
  {
   "cell_type": "markdown",
   "metadata": {},
   "source": [
    "# 8. Conclusion"
   ]
  },
  {
   "cell_type": "markdown",
   "metadata": {},
   "source": [
    "We installed conda with all the bells and whistles for using psychopy. This means of using conda, installing packages, is something that is universal for everything related to python. That means the processing pipelines such as fmriprep, qsmprep, and EEG analysis suites such as MNE Python, machine learning such as scikit-learn, and all the Neurofeedback stuff, work like this (and are started with the same steps descrived above. \n",
    "\n",
    "It is possible, to make a shortcut icon that will allow you to double-click it and do those 3-4 steps more quickly. It does involve some googling and I have made a script and desktop icon as an example for Linux and for Windows (but the windows one needs to be changed!). Both icons can be copied onto the desktop. For Mac I think it's highly similar to Linux with some small changes.\n",
    "\n",
    "Regarding Psychopy, it is a good idea to just explore (and use) the builder for the simple stuff - you don't have to know any python, just how to navigate the builder. But, then you don't immediately know what all the key components are of psychopy (window, event, visualm etc) and how to call them. The Builder produces a `playmovie_last_run.py` (along with a `.psyexp`, which is some XML coding for the options in the builder) python script that can be run also exactly as per the 4 steps described above. This looks more complicated but at a basic level works highly similar to what we just made. The one thing we haven't touched is triggers and logging. Those would also be lines that are written at the correct places within the main script. For the moviestim, you might wish to still use the builder to make it, and compare the two .py output files.\n",
    "\n",
    "I haven't tested sound - but this should play back automatically when the movie starts. Hopefully that works.\n"
   ]
  },
  {
   "cell_type": "markdown",
   "metadata": {},
   "source": [
    "Feel free to offer any changes for this guide. On github, if you have an account, you should be able to search/find 'create branch', go to the new 'branch', make some changes, and then 'make pull request' from the website itself.\n",
    "\n",
    "How to (more properly) work with Git is a topic for another tutorial however, bit G"
   ]
  },
  {
   "cell_type": "code",
   "execution_count": null,
   "metadata": {},
   "outputs": [],
   "source": []
  }
 ],
 "metadata": {
  "kernelspec": {
   "display_name": "Python 3",
   "language": "python",
   "name": "python3"
  },
  "language_info": {
   "codemirror_mode": {
    "name": "ipython",
    "version": 3
   },
   "file_extension": ".py",
   "mimetype": "text/x-python",
   "name": "python",
   "nbconvert_exporter": "python",
   "pygments_lexer": "ipython3",
   "version": "3.6.10"
  }
 },
 "nbformat": 4,
 "nbformat_minor": 4
}
